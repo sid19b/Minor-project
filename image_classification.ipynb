{
  "nbformat": 4,
  "nbformat_minor": 0,
  "metadata": {
    "colab": {
      "name": "image classification.ipynb",
      "provenance": [],
      "collapsed_sections": [],
      "mount_file_id": "1ZqfwBY3zGJxGWsAscjGrs0SGBODlAkQh",
      "authorship_tag": "ABX9TyNGlVdgXluBDU9ff0VLj8Uq",
      "include_colab_link": true
    },
    "kernelspec": {
      "name": "python3",
      "display_name": "Python 3"
    },
    "language_info": {
      "name": "python"
    }
  },
  "cells": [
    {
      "cell_type": "markdown",
      "metadata": {
        "id": "view-in-github",
        "colab_type": "text"
      },
      "source": [
        "<a href=\"https://colab.research.google.com/github/sid19b/Minor-project/blob/main/image_classification.ipynb\" target=\"_parent\"><img src=\"https://colab.research.google.com/assets/colab-badge.svg\" alt=\"Open In Colab\"/></a>"
      ]
    },
    {
      "cell_type": "code",
      "metadata": {
        "colab": {
          "base_uri": "https://localhost:8080/"
        },
        "id": "KyxISQ2cWif4",
        "outputId": "7a6f94de-89e5-4115-e80c-a0dcbe0b5851"
      },
      "source": [
        "!pip install ipython-autotime\n",
        "%load_ext autotime"
      ],
      "execution_count": null,
      "outputs": [
        {
          "output_type": "stream",
          "text": [
            "Collecting ipython-autotime\n",
            "  Downloading https://files.pythonhosted.org/packages/b4/c9/b413a24f759641bc27ef98c144b590023c8038dfb8a3f09e713e9dff12c1/ipython_autotime-0.3.1-py2.py3-none-any.whl\n",
            "Requirement already satisfied: ipython in /usr/local/lib/python3.7/dist-packages (from ipython-autotime) (5.5.0)\n",
            "Requirement already satisfied: decorator in /usr/local/lib/python3.7/dist-packages (from ipython->ipython-autotime) (4.4.2)\n",
            "Requirement already satisfied: pygments in /usr/local/lib/python3.7/dist-packages (from ipython->ipython-autotime) (2.6.1)\n",
            "Requirement already satisfied: pickleshare in /usr/local/lib/python3.7/dist-packages (from ipython->ipython-autotime) (0.7.5)\n",
            "Requirement already satisfied: simplegeneric>0.8 in /usr/local/lib/python3.7/dist-packages (from ipython->ipython-autotime) (0.8.1)\n",
            "Requirement already satisfied: traitlets>=4.2 in /usr/local/lib/python3.7/dist-packages (from ipython->ipython-autotime) (5.0.5)\n",
            "Requirement already satisfied: prompt-toolkit<2.0.0,>=1.0.4 in /usr/local/lib/python3.7/dist-packages (from ipython->ipython-autotime) (1.0.18)\n",
            "Requirement already satisfied: setuptools>=18.5 in /usr/local/lib/python3.7/dist-packages (from ipython->ipython-autotime) (57.0.0)\n",
            "Requirement already satisfied: pexpect; sys_platform != \"win32\" in /usr/local/lib/python3.7/dist-packages (from ipython->ipython-autotime) (4.8.0)\n",
            "Requirement already satisfied: ipython-genutils in /usr/local/lib/python3.7/dist-packages (from traitlets>=4.2->ipython->ipython-autotime) (0.2.0)\n",
            "Requirement already satisfied: six>=1.9.0 in /usr/local/lib/python3.7/dist-packages (from prompt-toolkit<2.0.0,>=1.0.4->ipython->ipython-autotime) (1.15.0)\n",
            "Requirement already satisfied: wcwidth in /usr/local/lib/python3.7/dist-packages (from prompt-toolkit<2.0.0,>=1.0.4->ipython->ipython-autotime) (0.2.5)\n",
            "Requirement already satisfied: ptyprocess>=0.5 in /usr/local/lib/python3.7/dist-packages (from pexpect; sys_platform != \"win32\"->ipython->ipython-autotime) (0.7.0)\n",
            "Installing collected packages: ipython-autotime\n",
            "Successfully installed ipython-autotime-0.3.1\n",
            "time: 2.4 ms (started: 2021-07-12 13:09:58 +00:00)\n"
          ],
          "name": "stdout"
        }
      ]
    },
    {
      "cell_type": "code",
      "metadata": {
        "colab": {
          "base_uri": "https://localhost:8080/"
        },
        "id": "184cjxrwR-gr",
        "outputId": "6bacd6b8-e908-44bc-eb76-996cdaa3e682"
      },
      "source": [
        "!pip install bing-image-downloader"
      ],
      "execution_count": null,
      "outputs": [
        {
          "output_type": "stream",
          "text": [
            "Collecting bing-image-downloader\n",
            "  Downloading https://files.pythonhosted.org/packages/c2/04/1872a689a30036aa0b81ac9fca124a7413cad71fdab714f727cf1a34b671/bing_image_downloader-1.1.1-py3-none-any.whl\n",
            "Installing collected packages: bing-image-downloader\n",
            "Successfully installed bing-image-downloader-1.1.1\n",
            "time: 2.94 s (started: 2021-07-12 13:09:58 +00:00)\n"
          ],
          "name": "stdout"
        }
      ]
    },
    {
      "cell_type": "code",
      "metadata": {
        "colab": {
          "base_uri": "https://localhost:8080/"
        },
        "id": "-7jl8uSsS_2G",
        "outputId": "16ddad55-d40e-4d4c-ba02-7b0d97b63426"
      },
      "source": [
        "!mkdir images1"
      ],
      "execution_count": null,
      "outputs": [
        {
          "output_type": "stream",
          "text": [
            "time: 112 ms (started: 2021-07-12 13:10:01 +00:00)\n"
          ],
          "name": "stdout"
        }
      ]
    },
    {
      "cell_type": "code",
      "metadata": {
        "colab": {
          "base_uri": "https://localhost:8080/"
        },
        "id": "Mi0xgt-lUDra",
        "outputId": "7d043b56-6f19-47bf-dab5-bcef65a435d0"
      },
      "source": [
        "from bing_image_downloader import downloader\n",
        "downloader.download('cars',limit=30,output_dir='images1',adult_filter_off=True)"
      ],
      "execution_count": null,
      "outputs": [
        {
          "output_type": "stream",
          "text": [
            "[%] Downloading Images to /content/images1/cars\n",
            "\n",
            "\n",
            "[!!]Indexing page: 1\n",
            "\n",
            "[%] Indexed 30 Images on Page 1.\n",
            "\n",
            "===============================================\n",
            "\n",
            "[%] Downloading Image #1 from http://www.carbodydesign.com/archive/2009/08/05-sv-9-competizione-images/SV-9-Competizione-4-lg.jpg\n",
            "[%] File Downloaded !\n",
            "\n",
            "[%] Downloading Image #2 from https://i.pinimg.com/736x/73/62/d8/7362d822038afc4386906ce9ab2ce58c.jpg\n",
            "[%] File Downloaded !\n",
            "\n",
            "[%] Downloading Image #3 from https://media.whatcar.com/migration/article_inline/fa3f2b3925370291872ddcf823dd8719749dcae6.jpg\n",
            "[%] File Downloaded !\n",
            "\n",
            "[%] Downloading Image #4 from https://i.pinimg.com/originals/df/6e/57/df6e57b2d6050b54f683c11d271b1803.jpg\n",
            "[%] File Downloaded !\n",
            "\n",
            "[%] Downloading Image #5 from http://shinecoco.com/wp-content/uploads/2020/04/gear_ghouly.jpg\n",
            "[%] File Downloaded !\n",
            "\n",
            "[%] Downloading Image #6 from https://external-preview.redd.it/pbEfLIYe90hFmJFBXWG8K0oXU4ayUl-6-USZlF7G_qk.jpg?auto=webp&amp;s=b2d9b17a5a84826506058e26ddbaeead84d0761a\n",
            "[!] Issue getting: https://external-preview.redd.it/pbEfLIYe90hFmJFBXWG8K0oXU4ayUl-6-USZlF7G_qk.jpg?auto=webp&amp;s=b2d9b17a5a84826506058e26ddbaeead84d0761a\n",
            "[!] Error:: HTTP Error 403: Forbidden\n",
            "[%] Downloading Image #6 from https://media.whatcar.com/wc-image/2019-04/true_mpg_best_and_worst_hybrid_cars.jpg\n",
            "[%] File Downloaded !\n",
            "\n",
            "[%] Downloading Image #7 from https://media.whatcar.com/migration/article_inline/992febfeab10d474005c3c45d112d723bcbbae66.jpg\n",
            "[%] File Downloaded !\n",
            "\n",
            "[%] Downloading Image #8 from http://jaikrishnaamaruti.com/uploads/truevalue_cars/0_13-08-2020_13-37-04.jpeg\n",
            "[%] File Downloaded !\n",
            "\n",
            "[%] Downloading Image #9 from https://cdn.motor1.com/images/mgl/oWVql/s4/can-cadillac-become-a-true-global-luxury-car-manufacturer.jpg\n",
            "[%] File Downloaded !\n",
            "\n",
            "[%] Downloading Image #10 from http://finallylost.com/wp-content/uploads/2017/01/the-cars-in-dubai-is-the-rumor-true-06.jpg\n",
            "[%] File Downloaded !\n",
            "\n",
            "[%] Downloading Image #11 from https://media.whatcar.com/migration/article_inline/31e233fabca887757aba0bb56028fce65792efc4.jpg\n",
            "[%] File Downloaded !\n",
            "\n",
            "[%] Downloading Image #12 from https://i.pinimg.com/originals/4b/cc/60/4bcc60ef5497f1ac8fddb4b88dc31b5f.jpg\n",
            "[%] File Downloaded !\n",
            "\n",
            "[%] Downloading Image #13 from https://media.whatcar.com/wc-image/2019-06/2-ford-st-diesel-1082018.jpg\n",
            "[%] File Downloaded !\n",
            "\n",
            "[%] Downloading Image #14 from https://static3.hotcarsimages.com/wordpress/wp-content/uploads/2020/08/challenger.jpg\n",
            "[Error]Invalid image, not saving https://static3.hotcarsimages.com/wordpress/wp-content/uploads/2020/08/challenger.jpg\n",
            "\n",
            "[!] Issue getting: https://static3.hotcarsimages.com/wordpress/wp-content/uploads/2020/08/challenger.jpg\n",
            "[!] Error:: Invalid image, not saving https://static3.hotcarsimages.com/wordpress/wp-content/uploads/2020/08/challenger.jpg\n",
            "\n",
            "[%] Downloading Image #14 from https://i.pinimg.com/originals/d2/ad/d6/d2add6400c95271ff439dc3f4c4f84f3.jpg\n",
            "[%] File Downloaded !\n",
            "\n",
            "[%] Downloading Image #15 from https://i.pinimg.com/originals/e8/5a/6c/e85a6cff5b06a5e2a0b94c0f539789a3.jpg\n",
            "[%] File Downloaded !\n",
            "\n",
            "[%] Downloading Image #16 from http://farm8.staticflickr.com/7337/10414103015_ceb1b3609e_z.jpg\n",
            "[%] File Downloaded !\n",
            "\n",
            "[%] Downloading Image #17 from https://www.jpgcars.com/wp-content/uploads/2019/11/SL63-AMG-a-true-Monster.png\n",
            "[%] File Downloaded !\n",
            "\n",
            "[%] Downloading Image #18 from https://media.whatcar.com/wc-image/2020-01/executive_cars_-_true_mpg.jpg\n",
            "[%] File Downloaded !\n",
            "\n",
            "[%] Downloading Image #19 from https://nhev.in/wp-content/uploads/2020/01/1x-1-1040x693.jpg\n",
            "[%] File Downloaded !\n",
            "\n",
            "[%] Downloading Image #20 from https://media.whatcar.com/wc-image/2020-01/nissanqashaidieseltruempg.jpg\n",
            "[%] File Downloaded !\n",
            "\n",
            "[%] Downloading Image #21 from https://i1.wp.com/automothink.com/assets/2020/03/Renault-Trezor.jpg?fit=1280%2C720&amp;ssl=1\n",
            "[%] File Downloaded !\n",
            "\n",
            "[%] Downloading Image #22 from https://media.whatcar.com/wc-image/2020-02/true_mpg_best_and_worst_hybrid_cars.jpg\n",
            "[%] File Downloaded !\n",
            "\n",
            "[%] Downloading Image #23 from https://i.ytimg.com/vi/2GFYiV4bmFo/maxresdefault.jpg\n",
            "[%] File Downloaded !\n",
            "\n",
            "[%] Downloading Image #24 from https://media.whatcar.com/wc-image/2020-01/suzuki_ignis_-_true_mpg_logo.jpg\n",
            "[%] File Downloaded !\n",
            "\n",
            "[%] Downloading Image #25 from https://images.cdn.circlesix.co/image/2/1200/630/5/uploads/posts/2017/03/8f85892a342ffe6757f17aee21e91078.jpg\n",
            "[Error]Invalid image, not saving https://images.cdn.circlesix.co/image/2/1200/630/5/uploads/posts/2017/03/8f85892a342ffe6757f17aee21e91078.jpg\n",
            "\n",
            "[!] Issue getting: https://images.cdn.circlesix.co/image/2/1200/630/5/uploads/posts/2017/03/8f85892a342ffe6757f17aee21e91078.jpg\n",
            "[!] Error:: Invalid image, not saving https://images.cdn.circlesix.co/image/2/1200/630/5/uploads/posts/2017/03/8f85892a342ffe6757f17aee21e91078.jpg\n",
            "\n",
            "[%] Downloading Image #25 from http://jaikrishnaamaruti.com/uploads/truevalue_cars/0_27-01-2018_16-03-53.jpg\n",
            "[%] File Downloaded !\n",
            "\n",
            "[%] Downloading Image #26 from https://media.whatcar.com/wc-image/2019-05/truempgengines.jpg\n",
            "[%] File Downloaded !\n",
            "\n",
            "[%] Downloading Image #27 from https://data.1freewallpapers.com/download/true-blue-chevelle.jpg\n",
            "[%] File Downloaded !\n",
            "\n",
            "\n",
            "\n",
            "[!!]Indexing page: 2\n",
            "\n",
            "[%] Indexed 35 Images on Page 2.\n",
            "\n",
            "===============================================\n",
            "\n",
            "[%] Downloading Image #28 from http://www.carbodydesign.com/archive/2009/08/05-sv-9-competizione-images/SV-9-Competizione-4-lg.jpg\n",
            "[%] File Downloaded !\n",
            "\n",
            "[%] Downloading Image #29 from https://i.pinimg.com/736x/73/62/d8/7362d822038afc4386906ce9ab2ce58c.jpg\n",
            "[%] File Downloaded !\n",
            "\n",
            "[%] Downloading Image #30 from https://media.whatcar.com/migration/article_inline/fa3f2b3925370291872ddcf823dd8719749dcae6.jpg\n",
            "[%] File Downloaded !\n",
            "\n",
            "\n",
            "\n",
            "[%] Done. Downloaded 30 images.\n",
            "===============================================\n",
            "\n",
            "Please show your support here\n",
            "https://www.buymeacoffee.com/gurugaurav\n",
            "\n",
            "===============================================\n",
            "\n",
            "time: 11.6 s (started: 2021-07-12 13:10:01 +00:00)\n"
          ],
          "name": "stdout"
        }
      ]
    },
    {
      "cell_type": "code",
      "metadata": {
        "colab": {
          "base_uri": "https://localhost:8080/"
        },
        "id": "t53ld6uzU0Ec",
        "outputId": "d357be24-10b5-40ba-ce27-feb19ed593c9"
      },
      "source": [
        "downloader.download('cricket bat',limit=30,output_dir='images1',adult_filter_off=True)"
      ],
      "execution_count": null,
      "outputs": [
        {
          "output_type": "stream",
          "text": [
            "[%] Downloading Images to /content/images1/cricket bat\n",
            "\n",
            "\n",
            "[!!]Indexing page: 1\n",
            "\n",
            "[%] Indexed 30 Images on Page 1.\n",
            "\n",
            "===============================================\n",
            "\n",
            "[%] Downloading Image #1 from https://n3.sdlcdn.com/imgs/g/r/s/spartan-blue-popular-willow-cricket-SDL568742857-1-ccf26.jpeg\n",
            "[%] File Downloaded !\n",
            "\n",
            "[%] Downloading Image #2 from https://n2.sdlcdn.com/imgs/i/x/b/Popular-willow-cricket-bat-Market-SDL943524258-1-2348e.jpeg\n",
            "[%] File Downloaded !\n",
            "\n",
            "[%] Downloading Image #3 from https://n2.sdlcdn.com/imgs/h/8/3/Strauss-English-Willow-Cricket-Bat-SDL263160843-2-e975d.jpeg\n",
            "[%] File Downloaded !\n",
            "\n",
            "[%] Downloading Image #4 from https://n3.sdlcdn.com/imgs/g/h/m/kookabura-popular-cricket-bat-SDL078309309-5-e6138.jpeg\n",
            "[%] File Downloaded !\n",
            "\n",
            "[%] Downloading Image #5 from https://n4.sdlcdn.com/imgs/i/9/l/BMD-POPLER-WELLOW-CRICKET-BAT-SDL196099538-1-cf279.jpeg\n",
            "[%] File Downloaded !\n",
            "\n",
            "[%] Downloading Image #6 from https://n4.sdlcdn.com/imgs/j/b/n/cricket-bat-SDL597858602-1-ce327.jpg\n",
            "[%] File Downloaded !\n",
            "\n",
            "[%] Downloading Image #7 from https://www.talentcricket.co.uk/images/custom/newberyinvictusbat192__size-800-0.jpg\n",
            "[%] File Downloaded !\n",
            "\n",
            "[%] Downloading Image #8 from https://n3.sdlcdn.com/imgs/i/g/x/Strauss-English-Willow-Cricket-Bat-SDL886371697-2-08b13.jpeg\n",
            "[%] File Downloaded !\n",
            "\n",
            "[%] Downloading Image #9 from https://n3.sdlcdn.com/imgs/i/h/e/CEAT-KASHMIR-WILLOW-CRICKET-BAT-SDL023104939-1-7c8bd.jpeg\n",
            "[!] Issue getting: https://n3.sdlcdn.com/imgs/i/h/e/CEAT-KASHMIR-WILLOW-CRICKET-BAT-SDL023104939-1-7c8bd.jpeg\n",
            "[!] Error:: The read operation timed out\n",
            "[%] Downloading Image #9 from https://n3.sdlcdn.com/imgs/i/3/g/LenWave-Kashmir-Willow-Cricket-Bat-SDL366288239-4-c01e4.jpeg\n",
            "[!] Issue getting: https://n3.sdlcdn.com/imgs/i/3/g/LenWave-Kashmir-Willow-Cricket-Bat-SDL366288239-4-c01e4.jpeg\n",
            "[!] Error:: The read operation timed out\n",
            "[%] Downloading Image #9 from https://n1.sdlcdn.com/imgs/f/u/t/kks-flameback-masters-cricket-bat-SDL340031809-3-9da56.jpg\n",
            "[%] File Downloaded !\n",
            "\n",
            "[%] Downloading Image #10 from https://n2.sdlcdn.com/imgs/h/h/0/English-Willow-Cricket-Bat-Super-SDL149973619-1-328ff.jpg\n",
            "[%] File Downloaded !\n",
            "\n",
            "[%] Downloading Image #11 from https://n2.sdlcdn.com/imgs/g/k/i/W-sports-Best-Quality-Natural-SDL602621706-1-42dbd.jpg\n",
            "[%] File Downloaded !\n",
            "\n",
            "[%] Downloading Image #12 from https://n1.sdlcdn.com/imgs/f/e/u/Puma-Evospeed-1-Cricket-Bat-SDL293036791-2-357b1.jpg\n",
            "[%] File Downloaded !\n",
            "\n",
            "[%] Downloading Image #13 from https://n2.sdlcdn.com/imgs/g/i/f/Kashmir-Willow-Cricket-Bat-SDL049542430-1-cf699.jpeg\n",
            "[!] Issue getting: https://n2.sdlcdn.com/imgs/g/i/f/Kashmir-Willow-Cricket-Bat-SDL049542430-1-cf699.jpeg\n",
            "[!] Error:: The read operation timed out\n",
            "[%] Downloading Image #13 from https://n2.sdlcdn.com/imgs/a/s/6/Puma-Kashmir-Willow-Cricket-Bat-SDL010743540-1-d1617.jpg\n",
            "[%] File Downloaded !\n",
            "\n",
            "[%] Downloading Image #14 from https://n1.sdlcdn.com/imgs/f/b/q/KKS-Popular-Willow-Cricket-Bat-SDL203846664-1-2f0a9.jpg\n",
            "[!] Issue getting: https://n1.sdlcdn.com/imgs/f/b/q/KKS-Popular-Willow-Cricket-Bat-SDL203846664-1-2f0a9.jpg\n",
            "[!] Error:: The read operation timed out\n",
            "[%] Downloading Image #14 from https://edsports.ie/wp-content/uploads/2010/05/kookaburra-kahuna-3.0-cricket-bat.png\n",
            "[%] File Downloaded !\n",
            "\n",
            "[%] Downloading Image #15 from https://n1.sdlcdn.com/imgs/j/b/n/cricket-bat-SDL969661030-2-cf735.jpg\n",
            "[%] File Downloaded !\n",
            "\n",
            "[%] Downloading Image #16 from https://cricketshop.co.za/wp-content/uploads/2019/04/BAS-Vampire-Legend-Gold-Cricket-Bat-100248S.jpg\n",
            "[%] File Downloaded !\n",
            "\n",
            "[%] Downloading Image #17 from https://n4.sdlcdn.com/imgs/g/6/k/ABS-TOP-Grains-English-Willow-SDL507924939-3-6c5a0.jpeg\n",
            "[%] File Downloaded !\n",
            "\n",
            "[%] Downloading Image #18 from https://n4.sdlcdn.com/imgs/b/s/r/SS-Soft-Pro-Cricket-Bat-SDL208754933-1-5adc9.jpg\n",
            "[%] File Downloaded !\n",
            "\n",
            "[%] Downloading Image #19 from https://n3.sdlcdn.com/imgs/b/v/z/Sunley-Juniour-Cricket-Bat-SDL792866138-1-76b44.JPG\n",
            "[%] File Downloaded !\n",
            "\n",
            "[%] Downloading Image #20 from https://n4.sdlcdn.com/imgs/e/9/e/Gm-Purist-101-Kashmir-Willow-SDL844199696-1-4611f.jpg\n",
            "[!] Issue getting: https://n4.sdlcdn.com/imgs/e/9/e/Gm-Purist-101-Kashmir-Willow-SDL844199696-1-4611f.jpg\n",
            "[!] Error:: The read operation timed out\n",
            "[%] Downloading Image #20 from https://n3.sdlcdn.com/imgs/g/i/x/RetailWorld-Kashmir-Willow-Cricket-Bat-SDL314347750-1-e06e9.jpeg\n",
            "[%] File Downloaded !\n",
            "\n",
            "[%] Downloading Image #21 from https://n1.sdlcdn.com/imgs/h/h/t/NB-Tc-660-Cricket-Bat-SDL257651881-1-bf977.jpeg\n",
            "[%] File Downloaded !\n",
            "\n",
            "[%] Downloading Image #22 from https://n2.sdlcdn.com/imgs/f/s/i/instyler-Stroke-Size-4-Cricket-SDL142530945-1-c8c8f.jpg\n",
            "[%] File Downloaded !\n",
            "\n",
            "[%] Downloading Image #23 from https://n1.sdlcdn.com/imgs/h/o/v/gp-kashmir-willow-cricket-bat-SDL292385902-1-47355.jpeg\n",
            "[%] File Downloaded !\n",
            "\n",
            "[%] Downloading Image #24 from https://www.romida.co.uk/media/catalog/product/cache/1/thumbnail/600x/17f82f742ffe127f42dca9de82fb58b1/g/m/gm_zelos_ii_2021_bat_group.jpg\n",
            "[!] Issue getting: https://www.romida.co.uk/media/catalog/product/cache/1/thumbnail/600x/17f82f742ffe127f42dca9de82fb58b1/g/m/gm_zelos_ii_2021_bat_group.jpg\n",
            "[!] Error:: <urlopen error [SSL: CERTIFICATE_VERIFY_FAILED] certificate verify failed: unable to get local issuer certificate (_ssl.c:1091)>\n",
            "[%] Downloading Image #24 from https://n2.sdlcdn.com/imgs/i/9/e/cricket-bat-SDL694681144-2-e84f8.jpg\n",
            "[%] File Downloaded !\n",
            "\n",
            "\n",
            "\n",
            "[!!]Indexing page: 2\n",
            "\n",
            "[%] Indexed 35 Images on Page 2.\n",
            "\n",
            "===============================================\n",
            "\n",
            "[%] Downloading Image #25 from https://n3.sdlcdn.com/imgs/g/r/s/spartan-blue-popular-willow-cricket-SDL568742857-1-ccf26.jpeg\n",
            "[%] File Downloaded !\n",
            "\n",
            "[%] Downloading Image #26 from https://n2.sdlcdn.com/imgs/i/x/b/Popular-willow-cricket-bat-Market-SDL943524258-1-2348e.jpeg\n",
            "[%] File Downloaded !\n",
            "\n",
            "[%] Downloading Image #27 from https://n2.sdlcdn.com/imgs/h/8/3/Strauss-English-Willow-Cricket-Bat-SDL263160843-2-e975d.jpeg\n",
            "[%] File Downloaded !\n",
            "\n",
            "[%] Downloading Image #28 from https://n3.sdlcdn.com/imgs/g/h/m/kookabura-popular-cricket-bat-SDL078309309-5-e6138.jpeg\n",
            "[%] File Downloaded !\n",
            "\n",
            "[%] Downloading Image #29 from https://n4.sdlcdn.com/imgs/i/9/l/BMD-POPLER-WELLOW-CRICKET-BAT-SDL196099538-1-cf279.jpeg\n",
            "[%] File Downloaded !\n",
            "\n",
            "[%] Downloading Image #30 from https://n4.sdlcdn.com/imgs/j/b/n/cricket-bat-SDL597858602-1-ce327.jpg\n",
            "[%] File Downloaded !\n",
            "\n",
            "\n",
            "\n",
            "[%] Done. Downloaded 30 images.\n",
            "===============================================\n",
            "\n",
            "Please show your support here\n",
            "https://www.buymeacoffee.com/gurugaurav\n",
            "\n",
            "===============================================\n",
            "\n",
            "time: 5min 37s (started: 2021-07-12 13:10:13 +00:00)\n"
          ],
          "name": "stdout"
        }
      ]
    },
    {
      "cell_type": "code",
      "metadata": {
        "colab": {
          "base_uri": "https://localhost:8080/"
        },
        "id": "j201ahDFV95p",
        "outputId": "2127668e-55e3-4599-a428-16c98ba30e1d"
      },
      "source": [
        "downloader.download('super bikes',limit=30,output_dir='images1',adult_filter_off=True)"
      ],
      "execution_count": null,
      "outputs": [
        {
          "output_type": "stream",
          "text": [
            "[%] Downloading Images to /content/images1/super bikes\n",
            "\n",
            "\n",
            "[!!]Indexing page: 1\n",
            "\n",
            "[%] Indexed 30 Images on Page 1.\n",
            "\n",
            "===============================================\n",
            "\n",
            "[%] Downloading Image #1 from https://i.pinimg.com/originals/4a/f9/39/4af9391bcc0580a9015c55cdf74e4cb1.jpg\n",
            "[%] File Downloaded !\n",
            "\n",
            "[%] Downloading Image #2 from https://i.pinimg.com/originals/d2/f3/88/d2f388798c7d18f3a9d99bdded416778.jpg\n",
            "[%] File Downloaded !\n",
            "\n",
            "[%] Downloading Image #3 from https://i.pinimg.com/originals/eb/fa/10/ebfa10a5cef16751f9e76b20d0dc5f5b.jpg\n",
            "[%] File Downloaded !\n",
            "\n",
            "[%] Downloading Image #4 from https://i.pinimg.com/originals/b7/73/a1/b773a1d89a3ed460faad4ecba544d901.jpg\n",
            "[%] File Downloaded !\n",
            "\n",
            "[%] Downloading Image #5 from https://i.pinimg.com/originals/6a/44/54/6a4454ee96f1a5e0054e4af8de92a557.jpg\n",
            "[%] File Downloaded !\n",
            "\n",
            "[%] Downloading Image #6 from https://i.pinimg.com/originals/0b/a3/9f/0ba39f14bf00055a94110520a39ce74b.jpg\n",
            "[%] File Downloaded !\n",
            "\n",
            "[%] Downloading Image #7 from https://i.pinimg.com/originals/dc/2a/ef/dc2aef663120fba517be4bf56124767d.jpg\n",
            "[%] File Downloaded !\n",
            "\n",
            "[%] Downloading Image #8 from https://i.pinimg.com/originals/50/ad/92/50ad92a604ba3c572e89dafb6e781b75.jpg\n",
            "[%] File Downloaded !\n",
            "\n",
            "[%] Downloading Image #9 from https://i.pinimg.com/originals/7f/2e/c3/7f2ec3c9a5dadbd6432c0428f6b6a8a7.jpg\n",
            "[%] File Downloaded !\n",
            "\n",
            "[%] Downloading Image #10 from https://i.pinimg.com/originals/47/91/ee/4791eee70ac6a4827336752f6710369c.jpg\n",
            "[%] File Downloaded !\n",
            "\n",
            "[%] Downloading Image #11 from https://i.pinimg.com/originals/f8/9e/db/f89edb1c77fe668a092e93802317288c.jpg\n",
            "[%] File Downloaded !\n",
            "\n",
            "[%] Downloading Image #12 from https://i.pinimg.com/originals/28/7c/c6/287cc6be040e9e8ce4b5be8bd20952e1.jpg\n",
            "[%] File Downloaded !\n",
            "\n",
            "[%] Downloading Image #13 from https://i.pinimg.com/originals/0d/11/c0/0d11c056249a16d9a04aa206318c8a82.png\n",
            "[%] File Downloaded !\n",
            "\n",
            "[%] Downloading Image #14 from https://i.pinimg.com/originals/16/e9/09/16e9094923ffc8cd3d5eb45109a312da.jpg\n",
            "[%] File Downloaded !\n",
            "\n",
            "[%] Downloading Image #15 from https://i.pinimg.com/736x/ba/b5/7c/bab57cb57e54dfa91305be2c485aafc1.jpg\n",
            "[%] File Downloaded !\n",
            "\n",
            "[%] Downloading Image #16 from https://i.pinimg.com/originals/80/97/ed/8097edf357d78a3380e43f02ec5a2c08.png\n",
            "[%] File Downloaded !\n",
            "\n",
            "[%] Downloading Image #17 from https://i.pinimg.com/originals/42/8d/0e/428d0e5a6719a01128f92613010692a0.jpg\n",
            "[%] File Downloaded !\n",
            "\n",
            "[%] Downloading Image #18 from https://i.pinimg.com/originals/50/85/94/508594d8bc2cae33967d9ab59dde47d6.jpg\n",
            "[%] File Downloaded !\n",
            "\n",
            "[%] Downloading Image #19 from https://i.pinimg.com/474x/18/01/d1/1801d10fac659462716217bf716250a1.jpg\n",
            "[%] File Downloaded !\n",
            "\n",
            "[%] Downloading Image #20 from https://i.pinimg.com/originals/a1/e8/d6/a1e8d6392798d3cbb9f8ca3e7f36b196.jpg\n",
            "[%] File Downloaded !\n",
            "\n",
            "[%] Downloading Image #21 from https://i.pinimg.com/originals/cc/94/98/cc949840b5e7dfe9c89fe4a2147fa72a.jpg\n",
            "[%] File Downloaded !\n",
            "\n",
            "[%] Downloading Image #22 from https://i.pinimg.com/originals/17/03/e2/1703e2be3b44b932fd459676d52cb5dd.jpg\n",
            "[%] File Downloaded !\n",
            "\n",
            "[%] Downloading Image #23 from https://bikereview.com.au/wp-content/uploads/2016/06/2016-Yamaha-Super-Tenere-Static-2.jpg\n",
            "[%] File Downloaded !\n",
            "\n",
            "[%] Downloading Image #24 from https://live.staticflickr.com/1061/5124277194_b8cbf9731d_b.jpg\n",
            "[%] File Downloaded !\n",
            "\n",
            "[%] Downloading Image #25 from https://i.pinimg.com/736x/31/74/9d/31749d23cbcb28eac874215b7e28eabf--superman-stuff-super-bikes.jpg\n",
            "[%] File Downloaded !\n",
            "\n",
            "[%] Downloading Image #26 from https://i.pinimg.com/originals/47/cf/6f/47cf6fe706d3975dde4215954dfe37a6.jpg\n",
            "[%] File Downloaded !\n",
            "\n",
            "[%] Downloading Image #27 from https://www.mcnews.com.au/wp-content/uploads/2016/08/Pert-Dianella-Wasp.jpg\n",
            "[%] File Downloaded !\n",
            "\n",
            "[%] Downloading Image #28 from https://i.pinimg.com/originals/3b/9b/78/3b9b78176a1dc443ee838de1a0530946.jpg\n",
            "[%] File Downloaded !\n",
            "\n",
            "[%] Downloading Image #29 from https://nsbikes.com/2014/images/slider/s7-696-s.jpg\n",
            "[%] File Downloaded !\n",
            "\n",
            "[%] Downloading Image #30 from https://i.pinimg.com/originals/63/c5/c6/63c5c69430ac390a474c72c1e058ba5c.jpg\n",
            "[%] File Downloaded !\n",
            "\n",
            "\n",
            "\n",
            "[%] Done. Downloaded 30 images.\n",
            "===============================================\n",
            "\n",
            "Please show your support here\n",
            "https://www.buymeacoffee.com/gurugaurav\n",
            "\n",
            "===============================================\n",
            "\n",
            "time: 6.65 s (started: 2021-07-12 13:15:50 +00:00)\n"
          ],
          "name": "stdout"
        }
      ]
    },
    {
      "cell_type": "code",
      "metadata": {
        "colab": {
          "base_uri": "https://localhost:8080/"
        },
        "id": "ZTMHVIQhbIBq",
        "outputId": "fd6040c4-80d1-49a7-9a02-f1d5713d5b59"
      },
      "source": [
        "import numpy as np\n",
        "a=np.array([[1,2,3],\n",
        "            [4,5,6]])\n",
        "a.ndim"
      ],
      "execution_count": null,
      "outputs": [
        {
          "output_type": "execute_result",
          "data": {
            "text/plain": [
              "2"
            ]
          },
          "metadata": {
            "tags": []
          },
          "execution_count": 7
        },
        {
          "output_type": "stream",
          "text": [
            "time: 11.4 ms (started: 2021-07-12 13:15:57 +00:00)\n"
          ],
          "name": "stdout"
        }
      ]
    },
    {
      "cell_type": "code",
      "metadata": {
        "colab": {
          "base_uri": "https://localhost:8080/"
        },
        "id": "QkWYkMmWYWK5",
        "outputId": "bd87c25f-ee9a-4c52-dd90-2342c20afa57"
      },
      "source": [
        "#how to convert 2dim to 1dim?- using flatten()\n",
        "a.flatten()"
      ],
      "execution_count": null,
      "outputs": [
        {
          "output_type": "execute_result",
          "data": {
            "text/plain": [
              "array([1, 2, 3, 4, 5, 6])"
            ]
          },
          "metadata": {
            "tags": []
          },
          "execution_count": 8
        },
        {
          "output_type": "stream",
          "text": [
            "time: 13.8 ms (started: 2021-07-12 13:15:57 +00:00)\n"
          ],
          "name": "stdout"
        }
      ]
    },
    {
      "cell_type": "code",
      "metadata": {
        "colab": {
          "base_uri": "https://localhost:8080/"
        },
        "id": "UO5mJgjsWaQI",
        "outputId": "e168ffd9-3f20-4802-c815-492b74519622"
      },
      "source": [
        "#preprocessing\n",
        "\n",
        "import os \n",
        "import matplotlib.pyplot as plt\n",
        "import numpy as np\n",
        "from skimage.io import imread\n",
        "from skimage.transform import resize \n",
        "\n",
        "target=[]\n",
        "images1=[]\n",
        "flatten_data=[]\n",
        "\n",
        "datadir='/content/images1'\n",
        "categories=['cars','cricket bat','super bikes']\n",
        "\n",
        "for cat in categories:\n",
        "  class_num=categories.index(cat) #label encoding the values\n",
        "  print(class_num)\n",
        "  path=os.path.join(datadir,cat)#create path to use all the images\n",
        "  print(path)\n",
        "  for img in os.listdir(path):\n",
        "    img_array=imread(os.path.join(path,img))\n",
        "    #plt.imshow(img_array)\n",
        "    #break\n",
        "    img_resized=resize(img_array,(150,150,3)) #normalizes value from 0 to 1\n",
        "    flatten_data.append(img_resized.flatten())\n",
        "    images1.append(img_resized)\n",
        "    target.append(class_num)\n",
        "\n",
        "flatten_data=np.array(flatten_data)\n",
        "target=np.array(target)\n",
        "images1=np.array(images1)"
      ],
      "execution_count": null,
      "outputs": [
        {
          "output_type": "stream",
          "text": [
            "0\n",
            "/content/images1/cars\n",
            "1\n",
            "/content/images1/cricket bat\n",
            "2\n",
            "/content/images1/super bikes\n",
            "time: 24.6 s (started: 2021-07-12 13:15:57 +00:00)\n"
          ],
          "name": "stdout"
        }
      ]
    },
    {
      "cell_type": "code",
      "metadata": {
        "colab": {
          "base_uri": "https://localhost:8080/"
        },
        "id": "ui0-lpnqcuBF",
        "outputId": "9b911a06-9e57-439f-b26d-45b88498ba0c"
      },
      "source": [
        "target"
      ],
      "execution_count": null,
      "outputs": [
        {
          "output_type": "execute_result",
          "data": {
            "text/plain": [
              "array([0, 0, 0, 0, 0, 0, 0, 0, 0, 0, 0, 0, 0, 0, 0, 0, 0, 0, 0, 0, 0, 0,\n",
              "       0, 0, 0, 0, 0, 0, 0, 0, 1, 1, 1, 1, 1, 1, 1, 1, 1, 1, 1, 1, 1, 1,\n",
              "       1, 1, 1, 1, 1, 1, 1, 1, 1, 1, 1, 1, 1, 1, 1, 1, 2, 2, 2, 2, 2, 2,\n",
              "       2, 2, 2, 2, 2, 2, 2, 2, 2, 2, 2, 2, 2, 2, 2, 2, 2, 2, 2, 2, 2, 2,\n",
              "       2, 2])"
            ]
          },
          "metadata": {
            "tags": []
          },
          "execution_count": 10
        },
        {
          "output_type": "stream",
          "text": [
            "time: 9.02 ms (started: 2021-07-12 13:16:21 +00:00)\n"
          ],
          "name": "stdout"
        }
      ]
    },
    {
      "cell_type": "code",
      "metadata": {
        "colab": {
          "base_uri": "https://localhost:8080/",
          "height": 315
        },
        "id": "9nof8nnAj_0j",
        "outputId": "1088fa5e-3953-4066-fd68-1afeaffa5424"
      },
      "source": [
        "unique,count = np.unique(target,return_counts=True)\n",
        "print(np.unique(target,return_counts=True))\n",
        "plt.bar(categories,count)"
      ],
      "execution_count": null,
      "outputs": [
        {
          "output_type": "stream",
          "text": [
            "(array([0, 1, 2]), array([30, 30, 30]))\n"
          ],
          "name": "stdout"
        },
        {
          "output_type": "execute_result",
          "data": {
            "text/plain": [
              "<BarContainer object of 3 artists>"
            ]
          },
          "metadata": {
            "tags": []
          },
          "execution_count": 11
        },
        {
          "output_type": "display_data",
          "data": {
            "image/png": "[encoded data removed]",
            "text/plain": [
              "<Figure size 432x288 with 1 Axes>"
            ]
          },
          "metadata": {
            "tags": [],
            "needs_background": "light"
          }
        },
        {
          "output_type": "stream",
          "text": [
            "time: 170 ms (started: 2021-07-12 13:16:21 +00:00)\n"
          ],
          "name": "stdout"
        }
      ]
    },
    {
      "cell_type": "code",
      "metadata": {
        "colab": {
          "base_uri": "https://localhost:8080/"
        },
        "id": "LhaykBT0mczQ",
        "outputId": "d5a1d8f0-080d-4f75-d11c-b3a41e53f225"
      },
      "source": [
        "#split data into testing and training \n",
        "from sklearn.model_selection import train_test_split\n",
        "x_train,x_test,y_train,y_test=train_test_split(flatten_data,target,test_size=0.3,random_state=109)\n"
      ],
      "execution_count": null,
      "outputs": [
        {
          "output_type": "stream",
          "text": [
            "time: 171 ms (started: 2021-07-12 13:16:22 +00:00)\n"
          ],
          "name": "stdout"
        }
      ]
    },
    {
      "cell_type": "code",
      "metadata": {
        "colab": {
          "base_uri": "https://localhost:8080/"
        },
        "id": "XfOsyP0po_w1",
        "outputId": "28f4ebac-6994-4d43-e3aa-1d037940e3a9"
      },
      "source": [
        "from sklearn.model_selection import GridSearchCV\n",
        "from sklearn import svm\n",
        "param_grid=[\n",
        "            {'C':[1,10,100,1000],'kernel':['linear']},\n",
        "            {'C':[1,10,100,1000],'gamma':[0.001,0.0001],'kernel':['rbf']},\n",
        "]\n",
        "svc=svm.SVC(probability=True)\n",
        "trs=GridSearchCV(svc,param_grid)\n",
        "trs.fit(x_train,y_train)\n"
      ],
      "execution_count": null,
      "outputs": [
        {
          "output_type": "execute_result",
          "data": {
            "text/plain": [
              "GridSearchCV(cv=None, error_score=nan,\n",
              "             estimator=SVC(C=1.0, break_ties=False, cache_size=200,\n",
              "                           class_weight=None, coef0=0.0,\n",
              "                           decision_function_shape='ovr', degree=3,\n",
              "                           gamma='scale', kernel='rbf', max_iter=-1,\n",
              "                           probability=True, random_state=None, shrinking=True,\n",
              "                           tol=0.001, verbose=False),\n",
              "             iid='deprecated', n_jobs=None,\n",
              "             param_grid=[{'C': [1, 10, 100, 1000], 'kernel': ['linear']},\n",
              "                         {'C': [1, 10, 100, 1000], 'gamma': [0.001, 0.0001],\n",
              "                          'kernel': ['rbf']}],\n",
              "             pre_dispatch='2*n_jobs', refit=True, return_train_score=False,\n",
              "             scoring=None, verbose=0)"
            ]
          },
          "metadata": {
            "tags": []
          },
          "execution_count": 13
        },
        {
          "output_type": "stream",
          "text": [
            "time: 1min 58s (started: 2021-07-12 13:16:22 +00:00)\n"
          ],
          "name": "stdout"
        }
      ]
    },
    {
      "cell_type": "code",
      "metadata": {
        "id": "Vgt9YOwS145k",
        "colab": {
          "base_uri": "https://localhost:8080/"
        },
        "outputId": "fa102b55-2b1f-4b8e-a78c-aa5e2a76e27f"
      },
      "source": [
        "y_pred=trs.predict(x_test)\n",
        "y_pred"
      ],
      "execution_count": null,
      "outputs": [
        {
          "output_type": "execute_result",
          "data": {
            "text/plain": [
              "array([1, 0, 1, 2, 2, 1, 0, 1, 1, 0, 1, 0, 1, 2, 0, 1, 2, 1, 0, 1, 1, 2,\n",
              "       2, 0, 2, 0, 1])"
            ]
          },
          "metadata": {
            "tags": []
          },
          "execution_count": 14
        },
        {
          "output_type": "stream",
          "text": [
            "time: 166 ms (started: 2021-07-12 13:18:20 +00:00)\n"
          ],
          "name": "stdout"
        }
      ]
    },
    {
      "cell_type": "code",
      "metadata": {
        "colab": {
          "base_uri": "https://localhost:8080/"
        },
        "id": "a-CPoTzDtQQ2",
        "outputId": "8f3a789a-b84b-466d-f701-e590b2f8c0fe"
      },
      "source": [
        "y_test"
      ],
      "execution_count": null,
      "outputs": [
        {
          "output_type": "execute_result",
          "data": {
            "text/plain": [
              "array([1, 0, 1, 2, 2, 1, 0, 1, 1, 0, 1, 0, 1, 2, 2, 1, 2, 1, 0, 1, 2, 2,\n",
              "       2, 0, 0, 0, 1])"
            ]
          },
          "metadata": {
            "tags": []
          },
          "execution_count": 15
        },
        {
          "output_type": "stream",
          "text": [
            "time: 4.02 ms (started: 2021-07-12 13:18:21 +00:00)\n"
          ],
          "name": "stdout"
        }
      ]
    },
    {
      "cell_type": "code",
      "metadata": {
        "colab": {
          "base_uri": "https://localhost:8080/"
        },
        "id": "JwlRyx8ltSOH",
        "outputId": "f2370b72-54f0-45e1-881c-8bb460e38048"
      },
      "source": [
        "from sklearn.metrics import accuracy_score,confusion_matrix"
      ],
      "execution_count": null,
      "outputs": [
        {
          "output_type": "stream",
          "text": [
            "time: 1.35 ms (started: 2021-07-12 13:18:21 +00:00)\n"
          ],
          "name": "stdout"
        }
      ]
    },
    {
      "cell_type": "code",
      "metadata": {
        "colab": {
          "base_uri": "https://localhost:8080/"
        },
        "id": "ruOMryxtteKo",
        "outputId": "47729596-2883-4fbe-9b60-8d38d60c9dd4"
      },
      "source": [
        "accuracy_score(y_pred,y_test)"
      ],
      "execution_count": null,
      "outputs": [
        {
          "output_type": "execute_result",
          "data": {
            "text/plain": [
              "0.8888888888888888"
            ]
          },
          "metadata": {
            "tags": []
          },
          "execution_count": 17
        },
        {
          "output_type": "stream",
          "text": [
            "time: 4.33 ms (started: 2021-07-12 13:18:21 +00:00)\n"
          ],
          "name": "stdout"
        }
      ]
    },
    {
      "cell_type": "code",
      "metadata": {
        "colab": {
          "base_uri": "https://localhost:8080/"
        },
        "id": "g0SkT7JStgwa",
        "outputId": "afc99ff5-37b7-486a-cb9d-68269d7bfb98"
      },
      "source": [
        "confusion_matrix(y_pred,y_test)"
      ],
      "execution_count": null,
      "outputs": [
        {
          "output_type": "execute_result",
          "data": {
            "text/plain": [
              "array([[ 7,  0,  1],\n",
              "       [ 0, 11,  1],\n",
              "       [ 1,  0,  6]])"
            ]
          },
          "metadata": {
            "tags": []
          },
          "execution_count": 18
        },
        {
          "output_type": "stream",
          "text": [
            "time: 5.19 ms (started: 2021-07-12 13:18:21 +00:00)\n"
          ],
          "name": "stdout"
        }
      ]
    },
    {
      "cell_type": "code",
      "metadata": {
        "colab": {
          "base_uri": "https://localhost:8080/"
        },
        "id": "KxSzlJO1tvdh",
        "outputId": "d2880018-e2ad-4634-f0a0-edc19cb93b12"
      },
      "source": [
        "#save the model using picle library\n",
        "import pickle \n",
        "pickle.dump(trs,open('img_model.p','wb'))"
      ],
      "execution_count": null,
      "outputs": [
        {
          "output_type": "stream",
          "text": [
            "time: 75.1 ms (started: 2021-07-12 13:18:21 +00:00)\n"
          ],
          "name": "stdout"
        }
      ]
    },
    {
      "cell_type": "code",
      "metadata": {
        "colab": {
          "base_uri": "https://localhost:8080/"
        },
        "id": "yO0a2RvZuF2q",
        "outputId": "51280bce-c41d-43a9-9a0e-75f3b03f7374"
      },
      "source": [
        "model = pickle.load(open('img_model.p','rb'))"
      ],
      "execution_count": null,
      "outputs": [
        {
          "output_type": "stream",
          "text": [
            "time: 29.8 ms (started: 2021-07-12 13:18:21 +00:00)\n"
          ],
          "name": "stdout"
        }
      ]
    },
    {
      "cell_type": "code",
      "metadata": {
        "colab": {
          "base_uri": "https://localhost:8080/",
          "height": 356
        },
        "id": "5OMMTCxWufX0",
        "outputId": "3d5a21c1-a87d-4d0f-e483-0c5b61ac99a6"
      },
      "source": [
        "#testing brand new image \n",
        "flatten_data=[]\n",
        "url=input('Enter your URL')\n",
        "img=imread(url)\n",
        "img_resized=resize(img,(150,150,3))\n",
        "flatten_data.append(img_resized.flatten())\n",
        "flatten_data=np.array(flatten_data)\n",
        "print(img.shape)\n",
        "plt.imshow(img_resized)\n",
        "y_out=model.predict(flatten_data)\n",
        "y_out=categories[y_out[0]]\n",
        "print(f'PREDICTED OUTPUT: {y_out}')"
      ],
      "execution_count": null,
      "outputs": [
        {
          "output_type": "stream",
          "text": [
            "Enter your URLhttps://images.newindianexpress.com/uploads/user/imagelibrary/2017/3/16/w600X390/Super.jpg\n",
            "(390, 600, 3)\n",
            "PREDICTED OUTPUT: super bikes\n"
          ],
          "name": "stdout"
        },
        {
          "output_type": "display_data",
          "data": {
            "image/png": "[encoded data removed]",
            "text/plain": [
              "<Figure size 432x288 with 1 Axes>"
            ]
          },
          "metadata": {
            "tags": [],
            "needs_background": "light"
          }
        },
        {
          "output_type": "stream",
          "text": [
            "time: 23.2 s (started: 2021-07-12 13:21:48 +00:00)\n"
          ],
          "name": "stdout"
        }
      ]
    },
    {
      "cell_type": "code",
      "metadata": {
        "colab": {
          "base_uri": "https://localhost:8080/"
        },
        "id": "h9KmMOFczYR8",
        "outputId": "65df452c-6e8a-4909-9da6-7c94397e4dfe"
      },
      "source": [
        "!pip install streamlit --quiet\n",
        "!pip install pyngrok==4.1.1 --quiet\n",
        "from pyngrok import ngrok"
      ],
      "execution_count": null,
      "outputs": [
        {
          "output_type": "stream",
          "text": [
            "\u001b[K     |████████████████████████████████| 788kB 30.4MB/s \n",
            "\u001b[K     |████████████████████████████████| 368kB 31.8MB/s \n",
            "\u001b[31mERROR: jupyter-console 5.2.0 has requirement prompt-toolkit<2.0.0,>=1.0.0, but you'll have prompt-toolkit 3.0.19 which is incompatible.\u001b[0m\n",
            "\u001b[31mERROR: google-colab 1.0.0 has requirement ipykernel~=4.10, but you'll have ipykernel 6.0.1 which is incompatible.\u001b[0m\n",
            "\u001b[31mERROR: google-colab 1.0.0 has requirement ipython~=5.5.0, but you'll have ipython 7.25.0 which is incompatible.\u001b[0m\n",
            "\u001b[?25h  Building wheel for pyngrok (setup.py) ... \u001b[?25l\u001b[?25hdone\n",
            "time: 9.4 s (started: 2021-07-12 13:23:34 +00:00)\n"
          ],
          "name": "stdout"
        }
      ]
    },
    {
      "cell_type": "code",
      "metadata": {
        "colab": {
          "base_uri": "https://localhost:8080/"
        },
        "id": "T-J8wHA20dTS",
        "outputId": "2b25e482-d675-4a18-b58f-b4e7737cfc9f"
      },
      "source": [
        "%%writefile app.py\n",
        "import streamlit as st\n",
        "import numpy as np\n",
        "from skimage.io import imread\n",
        "from skimage.transform import resize \n",
        "from PIL import Image\n",
        "st.title('Image Classifier using machine learning')\n",
        "st.text('upload the Image')\n",
        "\n",
        "model=pickle.load(open('img_model.p','rb'))\n",
        "\n",
        "uploaded_file=st.file_uploader('choose an image....',type='jpg')\n",
        "if uploaded_file is not None:\n",
        "  img=Image.open(uploaded_file)\n",
        "  st.image(img,caption='Uploaded Image')\n",
        "\n",
        "  if st.button('PREDICT'):\n",
        "    categories=['cars','cricket bat','super bikes']\n",
        "    st.write('Result..')\n",
        "    flatten_data=[]\n",
        "    img=np.array(img)\n",
        "    img_resized=resize(img,(150,150,3))\n",
        "    flatten_data.append(img_resized.flatten())\n",
        "    flatten_data=np.array(flatten_data)\n",
        "    y_out=model.predict(flatten_data)\n",
        "    y_out=categories[y_out[0]]\n",
        "    st.title(f'PREDICTED OUTPUT: {y_out}')"
      ],
      "execution_count": null,
      "outputs": [
        {
          "output_type": "stream",
          "text": [
            "Overwriting app.py\n",
            "time: 7.03 ms (started: 2021-07-12 13:42:52 +00:00)\n"
          ],
          "name": "stdout"
        }
      ]
    },
    {
      "cell_type": "code",
      "metadata": {
        "colab": {
          "base_uri": "https://localhost:8080/"
        },
        "id": "PYgkqpLS1AaK",
        "outputId": "3b476f0d-4223-4bac-dc6d-a96bc1e1c7f1"
      },
      "source": [
        "!nohup streamlit run app.py &\n",
        "\n",
        "url=ngrok.connect(port='8501')\n",
        "url"
      ],
      "execution_count": null,
      "outputs": [
        {
          "output_type": "stream",
          "text": [
            "nohup: appending output to 'nohup.out'\n"
          ],
          "name": "stdout"
        },
        {
          "output_type": "execute_result",
          "data": {
            "text/plain": [
              "<NgrokTunnel: \"http://27213d96b3cc.ngrok.io\" -> \"http://localhost:80\">"
            ]
          },
          "metadata": {
            "tags": []
          },
          "execution_count": 25
        },
        {
          "output_type": "stream",
          "text": [
            "time: 1.29 s (started: 2021-07-12 13:22:47 +00:00)\n"
          ],
          "name": "stdout"
        }
      ]
    },
    {
      "cell_type": "code",
      "metadata": {
        "id": "VqE3Q7pC1NnZ"
      },
      "source": [
        ""
      ],
      "execution_count": null,
      "outputs": []
    }
  ]
}